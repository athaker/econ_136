{
 "cells": [
  {
   "cell_type": "markdown",
   "metadata": {},
   "source": [
    "# Demo of election Prediction"
   ]
  },
  {
   "cell_type": "code",
   "execution_count": 31,
   "metadata": {},
   "outputs": [],
   "source": [
    "# Imports\n",
    "import os\n",
    "import pandas as pd\n",
    "from datetime import datetime, timedelta\n",
    "import torch\n",
    "from torch.utils.data import Dataset, DataLoader\n",
    "from torch import nn\n",
    "from torch.optim import Adam\n",
    "import numpy as np"
   ]
  },
  {
   "cell_type": "code",
   "execution_count": 32,
   "metadata": {},
   "outputs": [
    {
     "data": {
      "text/plain": [
       "<torch._C.Generator at 0x7fe518e38fb0>"
      ]
     },
     "execution_count": 32,
     "metadata": {},
     "output_type": "execute_result"
    }
   ],
   "source": [
    "torch.manual_seed(0)  # set seed for reproducability"
   ]
  },
  {
   "cell_type": "markdown",
   "metadata": {},
   "source": [
    "### Create a Dataset Class\n",
    "Custom dataset allows for better modularity. It must implement init, len, and getitem.\n",
    "This dataset will represent our election dataframe with the feature we will be using\n",
    "to predict first the party and then the market direction and as such getitem will\n",
    "return the featuress from the dataframe and the label we are trying to predict from\n",
    "the dataframe"
   ]
  },
  {
   "cell_type": "code",
   "execution_count": 33,
   "metadata": {},
   "outputs": [],
   "source": [
    "# Define Dataset Class\n",
    "class ElectionDataset(Dataset):\n",
    "    def __init__(self, dataframe, features, labels):\n",
    "        self.dataframe = dataframe\n",
    "        self.features = dataframe[features].values\n",
    "        self.labels = dataframe[labels].values\n",
    "\n",
    "    def __len__(self):\n",
    "        return len(self.dataframe)\n",
    "\n",
    "    def __getitem__(self, idx):\n",
    "        return torch.tensor(self.features[idx, :].astype(np.float32)), torch.tensor(\n",
    "            self.labels[idx].astype(np.float32)\n",
    "        )"
   ]
  },
  {
   "cell_type": "markdown",
   "metadata": {},
   "source": [
    "### Use a simple fully connected deep neural network\n",
    "<img src=\"./model_visualization.png\" alt=\"visualization of model\" height=\"700\"/>\n",
    "<img src=\"./party_model_visualization.png\" alt=\"visualization of model\" height=700/>\n",
    "<img src=\"./market_direction_model_visualization.png\" alt=\"visualization of model\" height=700/>"
   ]
  },
  {
   "cell_type": "code",
   "execution_count": 34,
   "metadata": {},
   "outputs": [],
   "source": [
    "# Define a simple neural network\n",
    "class DNNRegressor(nn.Module):\n",
    "    def __init__(self, input_size):\n",
    "        super(DNNRegressor, self).__init__()\n",
    "        self.layer1 = nn.Linear(input_size, 44)\n",
    "        self.layer2 = nn.Linear(44, 22)\n",
    "        self.layer3 = nn.Linear(22, 11)\n",
    "        self.output_layer = nn.Linear(11, 1)\n",
    "\n",
    "    def forward(self, x):\n",
    "        x = torch.relu(self.layer1(x))\n",
    "        x = torch.relu(self.layer2(x))\n",
    "        x = torch.relu(self.layer3(x))\n",
    "        x = self.output_layer(x)\n",
    "        return x"
   ]
  },
  {
   "cell_type": "markdown",
   "metadata": {},
   "source": [
    "### Function to compute trading day percent return\n",
    "We will use trading percent return as a feature. Be very careful about not looking\n",
    "at a day past the requested day to get the \"nearest\" trading day because that could\n",
    "introduce forward looking bias."
   ]
  },
  {
   "cell_type": "code",
   "execution_count": 35,
   "metadata": {},
   "outputs": [],
   "source": [
    "# Function to compute percentage change\n",
    "def compute_td_pct(djw, index, days):\n",
    "    \"\"\"\n",
    "    Computes the percent return of `djw ` for a specified number of`days` before\n",
    "    the passed in `index` date being very careful to never choose a future date\n",
    "    that could create a forward looking bias\n",
    "    \"\"\"\n",
    "    if (index + timedelta(days=1)) > djw.index[-1]:\n",
    "        return 0\n",
    "\n",
    "    ntd = djw.truncate(after=index).iloc[-1][\"close\"]\n",
    "\n",
    "    if days > 0:\n",
    "        n_days_after = djw[index : index + timedelta(days=days)].iloc[-1][\"close\"]\n",
    "        pct = (n_days_after - ntd) / n_days_after\n",
    "    else:\n",
    "        n_days_before_price = djw[index + timedelta(days=days) : index].iloc[0][\"close\"]\n",
    "        pct = (ntd - n_days_before_price) / ntd\n",
    "    return pct"
   ]
  },
  {
   "cell_type": "markdown",
   "metadata": {},
   "source": [
    "### Read in the stock and data and other features"
   ]
  },
  {
   "cell_type": "code",
   "execution_count": 36,
   "metadata": {},
   "outputs": [],
   "source": [
    "# Load and prepare data\n",
    "djw = pd.read_csv(\"djw.csv\")\n",
    "djw.set_index(pd.to_datetime(djw[\"date\"]), inplace=True)\n",
    "data = pd.read_csv(\"output_data.csv\")\n",
    "data.set_index(pd.to_datetime(data[\"date_elected\"]), inplace=True)"
   ]
  },
  {
   "cell_type": "markdown",
   "metadata": {},
   "source": [
    "### Create the stock market features"
   ]
  },
  {
   "cell_type": "code",
   "execution_count": 37,
   "metadata": {},
   "outputs": [],
   "source": [
    "# Create features\n",
    "features = [\n",
    "    \"prev_held_office_democratic\",\n",
    "    \"prev_held_office_republican\",\n",
    "    \"previous_party_1\",\n",
    "    \"previous_party_2\",\n",
    "    \"previous_party_3\",\n",
    "    \"3-6_month_market_direction\",\n",
    "    \"6-12_month_market_direction\",\n",
    "    \"12-18_month_direction\",\n",
    "    \"sentiment\",\n",
    "    \"day_before_7\",\n",
    "    \"day_before_30\",\n",
    "    \"day_before_150\",\n",
    "    \"day_before_210\",\n",
    "    \"day_before_365\",\n",
    "]\n",
    "\n",
    "# encode stock pct returns leading up to election\n",
    "day_before_7 = []\n",
    "day_before_30 = []\n",
    "day_before_150 = []\n",
    "day_before_210 = []\n",
    "day_before_365 = []\n",
    "for index, row in data.iterrows():\n",
    "    day_before_7.append(compute_td_pct(djw, index, -7))\n",
    "    day_before_30.append(compute_td_pct(djw, index, -30))\n",
    "    day_before_150.append(compute_td_pct(djw, index, -150))\n",
    "    day_before_210.append(compute_td_pct(djw, index, -210))\n",
    "    day_before_365.append(compute_td_pct(djw, index, -365))\n",
    "\n",
    "data[\"day_before_7\"] = day_before_7\n",
    "data[\"day_before_30\"] = day_before_30\n",
    "data[\"day_before_150\"] = day_before_150\n",
    "data[\"day_before_210\"] = day_before_210\n",
    "data[\"day_before_365\"] = day_before_365"
   ]
  },
  {
   "cell_type": "markdown",
   "metadata": {},
   "source": [
    "### First we predict party\n",
    "We will then use this party prediction as a feature for our stock market model"
   ]
  },
  {
   "cell_type": "code",
   "execution_count": 38,
   "metadata": {},
   "outputs": [],
   "source": [
    "label = \"party\"  # what we will predict"
   ]
  },
  {
   "cell_type": "code",
   "execution_count": 39,
   "metadata": {},
   "outputs": [],
   "source": [
    "# Split data into training and test sets\n",
    "train_size = int(0.99 * len(data))\n",
    "train_set, test_set = data[:train_size], data[train_size:]\n",
    "\n",
    "# Create datasets\n",
    "train_dataset = ElectionDataset(train_set, features, label)\n",
    "test_dataset = ElectionDataset(test_set, features, label)\n",
    "\n",
    "# Data loaders\n",
    "train_loader = DataLoader(train_dataset, batch_size=10, shuffle=True)\n",
    "test_loader = DataLoader(test_dataset, batch_size=10, shuffle=False)"
   ]
  },
  {
   "cell_type": "code",
   "execution_count": 40,
   "metadata": {},
   "outputs": [],
   "source": [
    "def run_model(train_loader, test_loader):\n",
    "    # Model, loss, and optimizer\n",
    "    model = DNNRegressor(input_size=len(features))\n",
    "    criterion = nn.MSELoss()\n",
    "    optimizer = Adam(model.parameters(), lr=0.001)\n",
    "\n",
    "    # Training loop\n",
    "    epochs = 10\n",
    "    for epoch in range(epochs):\n",
    "        model.train()\n",
    "        for inputs, targets in train_loader:\n",
    "            optimizer.zero_grad()\n",
    "            outputs = model(inputs)\n",
    "\n",
    "            loss = criterion(outputs, targets.view(-1, 1))\n",
    "            loss.backward()\n",
    "            optimizer.step()\n",
    "\n",
    "    # Evaluate the model\n",
    "    model.eval()\n",
    "    total_loss = 0\n",
    "    with torch.no_grad():\n",
    "        for inputs, targets in test_loader:\n",
    "            outputs = model(inputs)\n",
    "            loss = criterion(outputs, targets.view(-1, 1))\n",
    "            total_loss += loss.item()\n",
    "    return model"
   ]
  },
  {
   "cell_type": "code",
   "execution_count": 41,
   "metadata": {},
   "outputs": [],
   "source": [
    "# run the training loop and evaluate the model\n",
    "model = run_model(train_loader, test_loader)"
   ]
  },
  {
   "cell_type": "markdown",
   "metadata": {},
   "source": [
    "### Make the party prediction\n",
    "Predict which party will win and update the data to reflect that prediction so we can then use it to predict market direction which is what could ultimately be traded on"
   ]
  },
  {
   "cell_type": "code",
   "execution_count": 42,
   "metadata": {},
   "outputs": [
    {
     "name": "stdout",
     "output_type": "stream",
     "text": [
      "Predicted: 0.337480366230011\n",
      "Predicted: Democratic\n"
     ]
    }
   ],
   "source": [
    "# Now we want to predict the very last row in the test set\n",
    "inputs, targets = test_dataset[-1]\n",
    "inputs = inputs.unsqueeze(0)\n",
    "outputs = model(inputs)\n",
    "print(f\"Predicted: {outputs.item()}\")\n",
    "if outputs.item() > 0.5:\n",
    "    print(\"Predicted: Republican\")\n",
    "    data.loc[data.index[-1], \"party\"] = 1.0\n",
    "else:\n",
    "    print(\"Predicted: Democratic\")\n",
    "    data.loc[data.index[-1], \"party\"] = 0.0"
   ]
  },
  {
   "cell_type": "markdown",
   "metadata": {},
   "source": [
    "### Now using party as a feature predict the next day market impact"
   ]
  },
  {
   "cell_type": "code",
   "execution_count": 43,
   "metadata": {},
   "outputs": [],
   "source": [
    "# Now do the same training but include the expected winner as a feature and predict the market direction for the next month\n",
    "features.append(\"party\")\n",
    "label = \"1_after\"  # this time we will predict market direction, up or down\n"
   ]
  },
  {
   "cell_type": "code",
   "execution_count": 44,
   "metadata": {},
   "outputs": [],
   "source": [
    "# set up the datasets again with the new feature and label\n",
    "train_set, test_set = data[:train_size], data[train_size:]\n",
    "train_dataset = ElectionDataset(train_set, features, label)\n",
    "test_dataset = ElectionDataset(test_set, features, label)\n",
    "train_loader = DataLoader(train_dataset, batch_size=10, shuffle=True)\n",
    "test_loader = DataLoader(test_dataset, batch_size=10, shuffle=False)\n",
    "\n",
    "# run the training loop and evaluate the model\n",
    "model = run_model(train_loader, test_loader)"
   ]
  },
  {
   "cell_type": "code",
   "execution_count": 45,
   "metadata": {},
   "outputs": [
    {
     "name": "stdout",
     "output_type": "stream",
     "text": [
      "Predicted: 0.36066195368766785\n",
      "Predicted: down\n"
     ]
    }
   ],
   "source": [
    "# Now we want to predict the very last row in the test set\n",
    "inputs, targets = test_dataset[-1]\n",
    "inputs = inputs.unsqueeze(0)\n",
    "outputs = model(inputs)\n",
    "print(f\"Predicted: {outputs.item()}\")\n",
    "if outputs.item() > 0.5:\n",
    "    print(\"Predicted: up\")\n",
    "else:\n",
    "    print(\"Predicted: down\")"
   ]
  },
  {
   "cell_type": "markdown",
   "metadata": {},
   "source": [
    "### Model predicts down market\n",
    "But note that the model does not have access access to the data for the trading days leading up to the election. That trading data could change its prediction.\n",
    "\n",
    "Also important to remember that this is not financial advice and we are not recommending a trade."
   ]
  },
  {
   "cell_type": "markdown",
   "metadata": {},
   "source": []
  }
 ],
 "metadata": {
  "kernelspec": {
   "display_name": "election",
   "language": "python",
   "name": "python3"
  },
  "language_info": {
   "codemirror_mode": {
    "name": "ipython",
    "version": 3
   },
   "file_extension": ".py",
   "mimetype": "text/x-python",
   "name": "python",
   "nbconvert_exporter": "python",
   "pygments_lexer": "ipython3",
   "version": "3.10.14"
  }
 },
 "nbformat": 4,
 "nbformat_minor": 2
}
