{
 "cells": [
  {
   "cell_type": "markdown",
   "metadata": {
    "colab_type": "text",
    "id": "qHeYjhjDH1dy"
   },
   "source": [
    "# Predicting the Trump Election: An Introduction to Tensorflow\n",
    "This notebook demonstrates an introduction to Tensorflow for predicting the Trump victory for the 2016 presidential election, using stock market and 3rd party data. Through this guide you will utilize [DNNRegressor](https://www.tensorflow.org/api_docs/python/tf/estimator/DNNRegressor) a library in Tensorflow that allows you to quickly build a fully connected neural network and train a model. DNNRegressor is chosen over a more standard classification pipeline as we do not have to 1-hot encode the features. This will allow for our input vectors (i.e. timeseries data), to be more dense.\n",
    "\n",
    "The following steps are performed:\n",
    "1. Files\n",
    "2. Preprocess timeseries features\n",
    "3. Play/Visualize the data\n",
    "4. Model: Predicting Trump Election\n",
    "5. Model: Predicting the market returns"
   ]
  },
  {
   "cell_type": "markdown",
   "metadata": {},
   "source": [
    "### Overview \n",
    "The goal of this is to predict the winner of the 2016 Presidential Election using publicly available data at the time.  Instead of predicting the person to win we will phrase this problem as a binary classification task: predicting the political party that will win the election (Republican or Democratic). This will give us more data to sample from, hopefully improving the model performance. After that, we will use similar features to train another neural network which will be used to predict the market return after the election date. \n",
    "\n",
    "We have a small amount of data, overfitting and biases are a major problem. In practice you will have much more data. Using a GPU to accelerate the training time will be beneficial. A common GPU is the [Tesla K80 GPU](https://www.nvidia.com/en-us/data-center/tesla-k80/), and old but powerful and expensive GPU. "
   ]
  },
  {
   "cell_type": "code",
   "execution_count": null,
   "metadata": {
    "colab": {
     "autoexec": {
      "startup": false,
      "wait_interval": 0.0
     }
    },
    "colab_type": "code",
    "id": "G1rV0N5PHNeV"
   },
   "outputs": [],
   "source": [
    "# Imports\n",
    "import os\n",
    "import pandas as pd\n",
    "import datetime"
   ]
  },
  {
   "cell_type": "markdown",
   "metadata": {
    "colab_type": "text",
    "id": "scEH8w_pH0fN"
   },
   "source": [
    "### 1. Files Files\n",
    "Here you will find two files: data.csv, djw.csv\n",
    "\n",
    "* **data.csv** contains historical data about presidential elections dating back until 1900.\n",
    "* **djw.csv** contains historical data about the [Dow Jones Industrial Average](https://en.wikipedia.org/wiki/Dow_Jones_Industrial_Average) for the daily close prices. \n",
    "Although this is an index, it can closely approximate the DIA ETF and other ETF's that track \"the market\". This was chosen due the large dataset size. "
   ]
  },
  {
   "cell_type": "markdown",
   "metadata": {
    "colab_type": "text",
    "id": "zxEtHS7yKqNl"
   },
   "source": [
    "### 2. Preprocess Data\n",
    "In this section we preprocess the data. Here we have to be careful that we do not inject forward looking bias. Therefore, we need to use the ```truncate``` command to get the nearest day before. The helper function below shows how to get the percentage return of the market given a dataframe of prices. "
   ]
  },
  {
   "cell_type": "code",
   "execution_count": 2,
   "metadata": {
    "colab": {
     "autoexec": {
      "startup": false,
      "wait_interval": 0.0
     }
    },
    "colab_type": "code",
    "id": "E5SB0hKVKpGw"
   },
   "outputs": [],
   "source": [
    "def compute_td_pct(djw, index, days):\n",
    "    \"\"\" Computes a percentage change between a given day and some timedelta (days)\n",
    "    Args:\n",
    "        djw(PandasDataframe): contains index of prices and dates\n",
    "        index(datetime): day to search\n",
    "        days(int): numbers of days to search back\n",
    "    Returns:\n",
    "        (pct, int): percent change, and direction (1 positive, 0 negative)\n",
    "    \"\"\"\n",
    "    pct = None\n",
    "    ntd = djw.truncate(after=index).iloc[-1][\"Closing Value\"]\n",
    "    if days > 0:\n",
    "        pct = (djw[index:index+datetime.timedelta(days=1)].iloc[-1][\"Closing Value\"] - ntd) / djw[index:index+datetime.timedelta(days=days)].iloc[-1][\"Closing Value\"]\n",
    "    else:\n",
    "        pct = (ntd - djw[index+datetime.timedelta(days=days):index].iloc[0][\"Closing Value\"]) / ntd\n",
    "    if pct > 0.0:\n",
    "        return pct, 1\n",
    "    else:\n",
    "        return pct, 0"
   ]
  },
  {
   "cell_type": "markdown",
   "metadata": {},
   "source": [
    "We need to convert times to datetimes for easier processing. Pandas has great built in libraries that allow for quick data parsing. Pandas include a nice helper function called ```.to_datetime()``` which will automatically convert and figure out datetimes for you."
   ]
  },
  {
   "cell_type": "code",
   "execution_count": 3,
   "metadata": {
    "colab": {
     "autoexec": {
      "startup": false,
      "wait_interval": 0.0
     }
    },
    "colab_type": "code",
    "id": "vUFkaSm4HTOt"
   },
   "outputs": [],
   "source": [
    "djw = pd.read_csv(\"djw.csv\") # Dow Jones Industrial Average Prices by Day\n",
    "djw = djw.set_index(pd.to_datetime(djw[\"Date\"])) # Set the Datetime as index\n",
    "data = pd.read_csv(\"data.csv\") # Read in 3rd party handlabeled data\n",
    "data = data.set_index(pd.to_datetime(data[\"date_elected\"])) # Set the datetime as the index\n",
    "data = data[1:] # We remove the first index to make sure we have enough data to look backwards"
   ]
  },
  {
   "cell_type": "markdown",
   "metadata": {
    "colab_type": "text",
    "id": "FhF4ambrKab5"
   },
   "source": [
    "Label out the features to sample. Here we believe that the market or some combination of the market features may predict the election. Id est: smart money might know where the election may go and invest accordingly. "
   ]
  },
  {
   "cell_type": "code",
   "execution_count": 4,
   "metadata": {
    "colab": {
     "autoexec": {
      "startup": false,
      "wait_interval": 0.0
     }
    },
    "colab_type": "code",
    "id": "NYZPW3ApHllq"
   },
   "outputs": [],
   "source": [
    "# This could have been done in a list of lists but was made explicit for demonstration purposes\n",
    "day_before_1 = []   # 1 day before the election \n",
    "day_before_7 = []   # 7 days before the election\n",
    "day_before_30 = []  # 30 days before the election\n",
    "day_before_60 = []  # 60 days before the election\n",
    "day_before_180 = [] # 180 days before the election\n",
    "day_before_365 = [] # 365 days before the election\n",
    "day_before_730 = [] # 730 days before the election\n",
    "day_after_1 = []    # 1 day after the election\n",
    "day_after_7 = []    # 7 days after the election\n",
    "day_after_30 = []   # 30 days after the election\n",
    "day_after_60 = []   # 60 days after the election\n",
    "day_after_180 = []  # 180 days after the election\n",
    "day_after_365 = []  # 365 days after the election\n",
    "for index, row in data.iterrows():\n",
    "    day_after_1.append(compute_td_pct(djw, index, 1)[1]) # Note here we are just getting the direction instead of the market change\n",
    "    day_after_7.append(compute_td_pct(djw, index, 7)[0])\n",
    "    day_after_30.append(compute_td_pct(djw, index, 30)[0])\n",
    "    day_after_60.append(compute_td_pct(djw, index, 60)[0])\n",
    "    day_after_180.append(compute_td_pct(djw, index, 180)[0])\n",
    "    day_after_365.append(compute_td_pct(djw, index, 365)[0])\n",
    "    day_before_1.append(compute_td_pct(djw, index, -1)[0])\n",
    "    day_before_7.append(compute_td_pct(djw, index, -7)[0])\n",
    "    day_before_30.append(compute_td_pct(djw, index, -30)[0])\n",
    "    day_before_60.append(compute_td_pct(djw, index, -60)[0])\n",
    "    day_before_180.append(compute_td_pct(djw, index, -180)[0])\n",
    "    day_before_365.append(compute_td_pct(djw, index, -365)[0])\n",
    "    day_before_730.append(compute_td_pct(djw, index, -730)[0])   \n",
    "    \n",
    "# Finally construct a DataFrame containing all of the data and add column labels and concat\n",
    "# the market data to the third party data\n",
    "market_data_cols = [day_before_1, day_before_7, day_before_30, day_before_60, day_before_180, day_before_365, day_before_730, day_after_1, day_after_7, day_after_30, day_after_60, day_after_180, day_after_365]\n",
    "market_data_col_names = [\"day_before_1\",\"day_before_7\",\"day_before_30\",\"day_before_60\",\"day_before_180\",\"day_before_365\",\"day_before_730\",\"day_after_1\",\"day_after_7\",\"day_after_30\",\"day_after_60\",\"day_after_180\",\"day_after_365\"]\n",
    "market_data = pd.DataFrame(market_data_cols).transpose()\n",
    "market_data.columns = market_data_col_names\n",
    "market_data = market_data.set_index(data.index) # this operation is not inplace, use existing dataframe's index\n",
    "frames = [data, market_data] # Pandas has some quirks unlike sql when concatenating\n",
    "combined_df = pd.concat(frames, axis=1) # Axis 0 is after, 1 is next-to"
   ]
  },
  {
   "cell_type": "markdown",
   "metadata": {
    "colab_type": "text",
    "id": "ue2wRXa_LIHm"
   },
   "source": [
    "### 3. Play/Visualize Data\n",
    "Now that we have preprocessed the data, take a look at the data and get a feel for how it is structured. You will note that there is not that much data, as it is hard to find reliable stock data in the early 1900's. \n",
    "\n",
    "Examine the features to get a sense of what they mean. \n",
    "* Party - 1 if Republican, 0 if Democratic\n",
    "* Previously Held Office - 1 if true\n",
    "* Previous Party - the party that was previously in power (goes back 2 terms), 1 if Republican, 0 if Democratic\n",
    "* Was VP or VP Runner - 1 if held the position of VP before the current election\n",
    "* day_before_n - percentage or direction of the market for a given number of days before the current election cycle but not including the day\n",
    "* day_after_n - percentage or direction of the market for a given number of days after the current election cycle\n",
    "\n",
    "When I actually did the prediction, I had much more data than just the above. I used [Google Trends](trends.google.com) to add more feature data. Furthermore, I added a \"sentiment analysis\" by looking through social media and other documents to get a feeling for the expected outcome. I strongly reccomend you include more features and more data than the 20+ elements we have here. More data the better. High quality data is important. "
   ]
  },
  {
   "cell_type": "code",
   "execution_count": 5,
   "metadata": {
    "colab": {
     "autoexec": {
      "startup": false,
      "wait_interval": 0.0
     },
     "base_uri": "https://localhost:8080/",
     "height": 255.0
    },
    "colab_type": "code",
    "executionInfo": {
     "elapsed": 260.0,
     "status": "ok",
     "timestamp": 1.523610146905E12,
     "user": {
      "displayName": "Avi Thaker",
      "photoUrl": "https://lh3.googleusercontent.com/a/default-user=s128",
      "userId": "117542160256971382138"
     },
     "user_tz": 420.0
    },
    "id": "rv1xcxBiLGt3",
    "outputId": "16a49823-8f73-4230-a50c-0f70b0c0c035"
   },
   "outputs": [
    {
     "data": {
      "text/html": [
       "<div>\n",
       "<style scoped>\n",
       "    .dataframe tbody tr th:only-of-type {\n",
       "        vertical-align: middle;\n",
       "    }\n",
       "\n",
       "    .dataframe tbody tr th {\n",
       "        vertical-align: top;\n",
       "    }\n",
       "\n",
       "    .dataframe thead th {\n",
       "        text-align: right;\n",
       "    }\n",
       "</style>\n",
       "<table border=\"1\" class=\"dataframe\">\n",
       "  <thead>\n",
       "    <tr style=\"text-align: right;\">\n",
       "      <th></th>\n",
       "      <th>date_elected</th>\n",
       "      <th>party</th>\n",
       "      <th>prev_held_office</th>\n",
       "      <th>previous_party_1</th>\n",
       "      <th>previous_party_2</th>\n",
       "      <th>was_vp_or_vp_runner</th>\n",
       "      <th>day_before_1</th>\n",
       "      <th>day_before_7</th>\n",
       "      <th>day_before_30</th>\n",
       "      <th>day_before_60</th>\n",
       "      <th>day_before_180</th>\n",
       "      <th>day_before_365</th>\n",
       "      <th>day_before_730</th>\n",
       "      <th>day_after_1</th>\n",
       "      <th>day_after_7</th>\n",
       "      <th>day_after_30</th>\n",
       "      <th>day_after_60</th>\n",
       "      <th>day_after_180</th>\n",
       "      <th>day_after_365</th>\n",
       "    </tr>\n",
       "    <tr>\n",
       "      <th>date_elected</th>\n",
       "      <th></th>\n",
       "      <th></th>\n",
       "      <th></th>\n",
       "      <th></th>\n",
       "      <th></th>\n",
       "      <th></th>\n",
       "      <th></th>\n",
       "      <th></th>\n",
       "      <th></th>\n",
       "      <th></th>\n",
       "      <th></th>\n",
       "      <th></th>\n",
       "      <th></th>\n",
       "      <th></th>\n",
       "      <th></th>\n",
       "      <th></th>\n",
       "      <th></th>\n",
       "      <th></th>\n",
       "      <th></th>\n",
       "    </tr>\n",
       "  </thead>\n",
       "  <tbody>\n",
       "    <tr>\n",
       "      <th>1904-11-08</th>\n",
       "      <td>1904-11-08</td>\n",
       "      <td>1</td>\n",
       "      <td>0</td>\n",
       "      <td>1</td>\n",
       "      <td>1</td>\n",
       "      <td>1</td>\n",
       "      <td>0.0</td>\n",
       "      <td>0.037526</td>\n",
       "      <td>0.112577</td>\n",
       "      <td>0.145979</td>\n",
       "      <td>0.276082</td>\n",
       "      <td>0.363299</td>\n",
       "      <td>0.058144</td>\n",
       "      <td>1.0</td>\n",
       "      <td>0.012433</td>\n",
       "      <td>0.012648</td>\n",
       "      <td>0.012421</td>\n",
       "      <td>0.011290</td>\n",
       "      <td>0.010467</td>\n",
       "    </tr>\n",
       "    <tr>\n",
       "      <th>1908-11-03</th>\n",
       "      <td>1908-11-03</td>\n",
       "      <td>1</td>\n",
       "      <td>0</td>\n",
       "      <td>1</td>\n",
       "      <td>1</td>\n",
       "      <td>0</td>\n",
       "      <td>0.0</td>\n",
       "      <td>-0.007904</td>\n",
       "      <td>0.028157</td>\n",
       "      <td>-0.007904</td>\n",
       "      <td>0.144574</td>\n",
       "      <td>0.294583</td>\n",
       "      <td>-0.141116</td>\n",
       "      <td>1.0</td>\n",
       "      <td>0.022454</td>\n",
       "      <td>0.022702</td>\n",
       "      <td>0.022785</td>\n",
       "      <td>0.022257</td>\n",
       "      <td>0.019613</td>\n",
       "    </tr>\n",
       "    <tr>\n",
       "      <th>1912-11-05</th>\n",
       "      <td>1912-11-05</td>\n",
       "      <td>0</td>\n",
       "      <td>0</td>\n",
       "      <td>1</td>\n",
       "      <td>1</td>\n",
       "      <td>0</td>\n",
       "      <td>0.0</td>\n",
       "      <td>-0.000756</td>\n",
       "      <td>-0.040369</td>\n",
       "      <td>-0.009979</td>\n",
       "      <td>0.020714</td>\n",
       "      <td>0.125038</td>\n",
       "      <td>0.050801</td>\n",
       "      <td>1.0</td>\n",
       "      <td>0.018333</td>\n",
       "      <td>0.018795</td>\n",
       "      <td>0.018821</td>\n",
       "      <td>0.020826</td>\n",
       "      <td>0.021146</td>\n",
       "    </tr>\n",
       "    <tr>\n",
       "      <th>1916-11-07</th>\n",
       "      <td>1916-11-07</td>\n",
       "      <td>0</td>\n",
       "      <td>1</td>\n",
       "      <td>0</td>\n",
       "      <td>1</td>\n",
       "      <td>0</td>\n",
       "      <td>0.0</td>\n",
       "      <td>0.024251</td>\n",
       "      <td>0.065106</td>\n",
       "      <td>0.117340</td>\n",
       "      <td>0.159780</td>\n",
       "      <td>0.134409</td>\n",
       "      <td>0.490533</td>\n",
       "      <td>0.0</td>\n",
       "      <td>-0.003652</td>\n",
       "      <td>-0.003570</td>\n",
       "      <td>-0.003952</td>\n",
       "      <td>-0.004201</td>\n",
       "      <td>-0.005312</td>\n",
       "    </tr>\n",
       "    <tr>\n",
       "      <th>1920-11-02</th>\n",
       "      <td>1920-11-02</td>\n",
       "      <td>1</td>\n",
       "      <td>0</td>\n",
       "      <td>0</td>\n",
       "      <td>0</td>\n",
       "      <td>0</td>\n",
       "      <td>0.0</td>\n",
       "      <td>-0.001521</td>\n",
       "      <td>0.002691</td>\n",
       "      <td>-0.030066</td>\n",
       "      <td>-0.101661</td>\n",
       "      <td>-0.399392</td>\n",
       "      <td>-0.003042</td>\n",
       "      <td>0.0</td>\n",
       "      <td>-0.006130</td>\n",
       "      <td>-0.006339</td>\n",
       "      <td>-0.006810</td>\n",
       "      <td>-0.006236</td>\n",
       "      <td>-0.006665</td>\n",
       "    </tr>\n",
       "  </tbody>\n",
       "</table>\n",
       "</div>"
      ],
      "text/plain": [
       "             date_elected  party  prev_held_office  previous_party_1  \\\n",
       "date_elected                                                           \n",
       "1904-11-08     1904-11-08      1                 0                 1   \n",
       "1908-11-03     1908-11-03      1                 0                 1   \n",
       "1912-11-05     1912-11-05      0                 0                 1   \n",
       "1916-11-07     1916-11-07      0                 1                 0   \n",
       "1920-11-02     1920-11-02      1                 0                 0   \n",
       "\n",
       "              previous_party_2  was_vp_or_vp_runner  day_before_1  \\\n",
       "date_elected                                                        \n",
       "1904-11-08                   1                    1           0.0   \n",
       "1908-11-03                   1                    0           0.0   \n",
       "1912-11-05                   1                    0           0.0   \n",
       "1916-11-07                   1                    0           0.0   \n",
       "1920-11-02                   0                    0           0.0   \n",
       "\n",
       "              day_before_7  day_before_30  day_before_60  day_before_180  \\\n",
       "date_elected                                                               \n",
       "1904-11-08        0.037526       0.112577       0.145979        0.276082   \n",
       "1908-11-03       -0.007904       0.028157      -0.007904        0.144574   \n",
       "1912-11-05       -0.000756      -0.040369      -0.009979        0.020714   \n",
       "1916-11-07        0.024251       0.065106       0.117340        0.159780   \n",
       "1920-11-02       -0.001521       0.002691      -0.030066       -0.101661   \n",
       "\n",
       "              day_before_365  day_before_730  day_after_1  day_after_7  \\\n",
       "date_elected                                                             \n",
       "1904-11-08          0.363299        0.058144          1.0     0.012433   \n",
       "1908-11-03          0.294583       -0.141116          1.0     0.022454   \n",
       "1912-11-05          0.125038        0.050801          1.0     0.018333   \n",
       "1916-11-07          0.134409        0.490533          0.0    -0.003652   \n",
       "1920-11-02         -0.399392       -0.003042          0.0    -0.006130   \n",
       "\n",
       "              day_after_30  day_after_60  day_after_180  day_after_365  \n",
       "date_elected                                                            \n",
       "1904-11-08        0.012648      0.012421       0.011290       0.010467  \n",
       "1908-11-03        0.022702      0.022785       0.022257       0.019613  \n",
       "1912-11-05        0.018795      0.018821       0.020826       0.021146  \n",
       "1916-11-07       -0.003570     -0.003952      -0.004201      -0.005312  \n",
       "1920-11-02       -0.006339     -0.006810      -0.006236      -0.006665  "
      ]
     },
     "execution_count": 5,
     "metadata": {},
     "output_type": "execute_result"
    }
   ],
   "source": [
    "combined_df.head() # gives the top 5, can use tail to give the last 5"
   ]
  },
  {
   "cell_type": "code",
   "execution_count": 6,
   "metadata": {
    "colab": {
     "autoexec": {
      "startup": false,
      "wait_interval": 0.0
     },
     "base_uri": "https://localhost:8080/",
     "height": 317.0
    },
    "colab_type": "code",
    "executionInfo": {
     "elapsed": 282.0,
     "status": "ok",
     "timestamp": 1.523610147473E12,
     "user": {
      "displayName": "Avi Thaker",
      "photoUrl": "https://lh3.googleusercontent.com/a/default-user=s128",
      "userId": "117542160256971382138"
     },
     "user_tz": 420.0
    },
    "id": "_NeZ8xMvLHiK",
    "outputId": "3e6f5b65-a46d-4957-f93c-f9b9a5534a4d"
   },
   "outputs": [
    {
     "data": {
      "text/html": [
       "<div>\n",
       "<style scoped>\n",
       "    .dataframe tbody tr th:only-of-type {\n",
       "        vertical-align: middle;\n",
       "    }\n",
       "\n",
       "    .dataframe tbody tr th {\n",
       "        vertical-align: top;\n",
       "    }\n",
       "\n",
       "    .dataframe thead th {\n",
       "        text-align: right;\n",
       "    }\n",
       "</style>\n",
       "<table border=\"1\" class=\"dataframe\">\n",
       "  <thead>\n",
       "    <tr style=\"text-align: right;\">\n",
       "      <th></th>\n",
       "      <th>party</th>\n",
       "      <th>prev_held_office</th>\n",
       "      <th>previous_party_1</th>\n",
       "      <th>previous_party_2</th>\n",
       "      <th>was_vp_or_vp_runner</th>\n",
       "      <th>day_before_1</th>\n",
       "      <th>day_before_7</th>\n",
       "      <th>day_before_30</th>\n",
       "      <th>day_before_60</th>\n",
       "      <th>day_before_180</th>\n",
       "      <th>day_before_365</th>\n",
       "      <th>day_before_730</th>\n",
       "      <th>day_after_1</th>\n",
       "      <th>day_after_7</th>\n",
       "      <th>day_after_30</th>\n",
       "      <th>day_after_60</th>\n",
       "      <th>day_after_180</th>\n",
       "      <th>day_after_365</th>\n",
       "    </tr>\n",
       "  </thead>\n",
       "  <tbody>\n",
       "    <tr>\n",
       "      <th>count</th>\n",
       "      <td>29.000000</td>\n",
       "      <td>29.000000</td>\n",
       "      <td>29.000000</td>\n",
       "      <td>29.000000</td>\n",
       "      <td>29.000000</td>\n",
       "      <td>29.000000</td>\n",
       "      <td>29.000000</td>\n",
       "      <td>29.000000</td>\n",
       "      <td>29.000000</td>\n",
       "      <td>29.000000</td>\n",
       "      <td>29.000000</td>\n",
       "      <td>29.000000</td>\n",
       "      <td>29.000000</td>\n",
       "      <td>29.000000</td>\n",
       "      <td>29.000000</td>\n",
       "      <td>29.000000</td>\n",
       "      <td>29.000000</td>\n",
       "      <td>29.000000</td>\n",
       "    </tr>\n",
       "    <tr>\n",
       "      <th>mean</th>\n",
       "      <td>0.517241</td>\n",
       "      <td>0.344828</td>\n",
       "      <td>0.517241</td>\n",
       "      <td>0.551724</td>\n",
       "      <td>0.379310</td>\n",
       "      <td>0.002016</td>\n",
       "      <td>0.014532</td>\n",
       "      <td>0.016543</td>\n",
       "      <td>0.005033</td>\n",
       "      <td>0.043755</td>\n",
       "      <td>0.040059</td>\n",
       "      <td>0.089520</td>\n",
       "      <td>0.448276</td>\n",
       "      <td>-0.002882</td>\n",
       "      <td>-0.003152</td>\n",
       "      <td>-0.002937</td>\n",
       "      <td>-0.002924</td>\n",
       "      <td>-0.002029</td>\n",
       "    </tr>\n",
       "    <tr>\n",
       "      <th>std</th>\n",
       "      <td>0.508548</td>\n",
       "      <td>0.483725</td>\n",
       "      <td>0.508548</td>\n",
       "      <td>0.506120</td>\n",
       "      <td>0.493804</td>\n",
       "      <td>0.006578</td>\n",
       "      <td>0.017648</td>\n",
       "      <td>0.037084</td>\n",
       "      <td>0.064675</td>\n",
       "      <td>0.110046</td>\n",
       "      <td>0.232439</td>\n",
       "      <td>0.376834</td>\n",
       "      <td>0.506120</td>\n",
       "      <td>0.019684</td>\n",
       "      <td>0.020203</td>\n",
       "      <td>0.019460</td>\n",
       "      <td>0.019455</td>\n",
       "      <td>0.018122</td>\n",
       "    </tr>\n",
       "    <tr>\n",
       "      <th>min</th>\n",
       "      <td>0.000000</td>\n",
       "      <td>0.000000</td>\n",
       "      <td>0.000000</td>\n",
       "      <td>0.000000</td>\n",
       "      <td>0.000000</td>\n",
       "      <td>-0.002982</td>\n",
       "      <td>-0.011032</td>\n",
       "      <td>-0.040369</td>\n",
       "      <td>-0.179777</td>\n",
       "      <td>-0.336769</td>\n",
       "      <td>-0.808455</td>\n",
       "      <td>-1.657169</td>\n",
       "      <td>0.000000</td>\n",
       "      <td>-0.055902</td>\n",
       "      <td>-0.058022</td>\n",
       "      <td>-0.053794</td>\n",
       "      <td>-0.059180</td>\n",
       "      <td>-0.049582</td>\n",
       "    </tr>\n",
       "    <tr>\n",
       "      <th>25%</th>\n",
       "      <td>0.000000</td>\n",
       "      <td>0.000000</td>\n",
       "      <td>0.000000</td>\n",
       "      <td>0.000000</td>\n",
       "      <td>0.000000</td>\n",
       "      <td>0.000000</td>\n",
       "      <td>0.000000</td>\n",
       "      <td>-0.011044</td>\n",
       "      <td>-0.022993</td>\n",
       "      <td>-0.012496</td>\n",
       "      <td>0.023558</td>\n",
       "      <td>0.052363</td>\n",
       "      <td>0.000000</td>\n",
       "      <td>-0.009059</td>\n",
       "      <td>-0.009004</td>\n",
       "      <td>-0.008936</td>\n",
       "      <td>-0.008607</td>\n",
       "      <td>-0.008056</td>\n",
       "    </tr>\n",
       "    <tr>\n",
       "      <th>50%</th>\n",
       "      <td>1.000000</td>\n",
       "      <td>0.000000</td>\n",
       "      <td>1.000000</td>\n",
       "      <td>1.000000</td>\n",
       "      <td>0.000000</td>\n",
       "      <td>0.000000</td>\n",
       "      <td>0.013861</td>\n",
       "      <td>0.012609</td>\n",
       "      <td>0.013489</td>\n",
       "      <td>0.042738</td>\n",
       "      <td>0.096108</td>\n",
       "      <td>0.145892</td>\n",
       "      <td>0.000000</td>\n",
       "      <td>-0.001941</td>\n",
       "      <td>-0.001941</td>\n",
       "      <td>-0.001933</td>\n",
       "      <td>-0.001832</td>\n",
       "      <td>-0.001758</td>\n",
       "    </tr>\n",
       "    <tr>\n",
       "      <th>75%</th>\n",
       "      <td>1.000000</td>\n",
       "      <td>1.000000</td>\n",
       "      <td>1.000000</td>\n",
       "      <td>1.000000</td>\n",
       "      <td>1.000000</td>\n",
       "      <td>0.000000</td>\n",
       "      <td>0.020732</td>\n",
       "      <td>0.035039</td>\n",
       "      <td>0.029554</td>\n",
       "      <td>0.114063</td>\n",
       "      <td>0.144247</td>\n",
       "      <td>0.230675</td>\n",
       "      <td>1.000000</td>\n",
       "      <td>0.011486</td>\n",
       "      <td>0.011080</td>\n",
       "      <td>0.010250</td>\n",
       "      <td>0.010074</td>\n",
       "      <td>0.010467</td>\n",
       "    </tr>\n",
       "    <tr>\n",
       "      <th>max</th>\n",
       "      <td>1.000000</td>\n",
       "      <td>1.000000</td>\n",
       "      <td>1.000000</td>\n",
       "      <td>1.000000</td>\n",
       "      <td>1.000000</td>\n",
       "      <td>0.031734</td>\n",
       "      <td>0.067513</td>\n",
       "      <td>0.112577</td>\n",
       "      <td>0.145979</td>\n",
       "      <td>0.276082</td>\n",
       "      <td>0.363299</td>\n",
       "      <td>0.490533</td>\n",
       "      <td>1.000000</td>\n",
       "      <td>0.022454</td>\n",
       "      <td>0.022702</td>\n",
       "      <td>0.022785</td>\n",
       "      <td>0.022876</td>\n",
       "      <td>0.030659</td>\n",
       "    </tr>\n",
       "  </tbody>\n",
       "</table>\n",
       "</div>"
      ],
      "text/plain": [
       "           party  prev_held_office  previous_party_1  previous_party_2  \\\n",
       "count  29.000000         29.000000         29.000000         29.000000   \n",
       "mean    0.517241          0.344828          0.517241          0.551724   \n",
       "std     0.508548          0.483725          0.508548          0.506120   \n",
       "min     0.000000          0.000000          0.000000          0.000000   \n",
       "25%     0.000000          0.000000          0.000000          0.000000   \n",
       "50%     1.000000          0.000000          1.000000          1.000000   \n",
       "75%     1.000000          1.000000          1.000000          1.000000   \n",
       "max     1.000000          1.000000          1.000000          1.000000   \n",
       "\n",
       "       was_vp_or_vp_runner  day_before_1  day_before_7  day_before_30  \\\n",
       "count            29.000000     29.000000     29.000000      29.000000   \n",
       "mean              0.379310      0.002016      0.014532       0.016543   \n",
       "std               0.493804      0.006578      0.017648       0.037084   \n",
       "min               0.000000     -0.002982     -0.011032      -0.040369   \n",
       "25%               0.000000      0.000000      0.000000      -0.011044   \n",
       "50%               0.000000      0.000000      0.013861       0.012609   \n",
       "75%               1.000000      0.000000      0.020732       0.035039   \n",
       "max               1.000000      0.031734      0.067513       0.112577   \n",
       "\n",
       "       day_before_60  day_before_180  day_before_365  day_before_730  \\\n",
       "count      29.000000       29.000000       29.000000       29.000000   \n",
       "mean        0.005033        0.043755        0.040059        0.089520   \n",
       "std         0.064675        0.110046        0.232439        0.376834   \n",
       "min        -0.179777       -0.336769       -0.808455       -1.657169   \n",
       "25%        -0.022993       -0.012496        0.023558        0.052363   \n",
       "50%         0.013489        0.042738        0.096108        0.145892   \n",
       "75%         0.029554        0.114063        0.144247        0.230675   \n",
       "max         0.145979        0.276082        0.363299        0.490533   \n",
       "\n",
       "       day_after_1  day_after_7  day_after_30  day_after_60  day_after_180  \\\n",
       "count    29.000000    29.000000     29.000000     29.000000      29.000000   \n",
       "mean      0.448276    -0.002882     -0.003152     -0.002937      -0.002924   \n",
       "std       0.506120     0.019684      0.020203      0.019460       0.019455   \n",
       "min       0.000000    -0.055902     -0.058022     -0.053794      -0.059180   \n",
       "25%       0.000000    -0.009059     -0.009004     -0.008936      -0.008607   \n",
       "50%       0.000000    -0.001941     -0.001941     -0.001933      -0.001832   \n",
       "75%       1.000000     0.011486      0.011080      0.010250       0.010074   \n",
       "max       1.000000     0.022454      0.022702      0.022785       0.022876   \n",
       "\n",
       "       day_after_365  \n",
       "count      29.000000  \n",
       "mean       -0.002029  \n",
       "std         0.018122  \n",
       "min        -0.049582  \n",
       "25%        -0.008056  \n",
       "50%        -0.001758  \n",
       "75%         0.010467  \n",
       "max         0.030659  "
      ]
     },
     "execution_count": 6,
     "metadata": {},
     "output_type": "execute_result"
    }
   ],
   "source": [
    "combined_df.describe() # statistics about the dataframe"
   ]
  },
  {
   "cell_type": "markdown",
   "metadata": {},
   "source": [
    "### 4. Model: Predicting the Trump Election\n",
    "Here we will train a DNN that aims to predict the 2016 Presidential Election. The features will be the features explored above (except for the forward looking ones). You do not need to fully understand how a [neural network](https://en.wikipedia.org/wiki/Feedforward_neural_network) works, however it can be thought of mapping inputs to outputs and the network will figure out everything inbetween. The aim is to not have the best network architecture possible, but to leverage neural network's ability to find patterns among data that otherwise would be difficult or timeconsuming to find by pure inspection. \n",
    "\n",
    "We are using Deep Learning to figure out the useful features and generate a model based upon those useful features to predict upon. \n",
    "\n",
    "Tensorflow is the selected Deep Learning framework, as it tends to be the most popular in industry. There are many others and each has a different purpose and use. Use what is best to get the job done.\n",
    "* CNTK (Microsoft Cognitive Toolkit)\n",
    "* Keras - this actually is a high level API that has general calls to other frameworks\n",
    "* Theano\n",
    "* Torch\n",
    "* Caffe/Caffe2\n",
    "* Scikit learn"
   ]
  },
  {
   "cell_type": "code",
   "execution_count": 7,
   "metadata": {
    "colab": {
     "autoexec": {
      "startup": false,
      "wait_interval": 0.0
     }
    },
    "colab_type": "code",
    "id": "4wE487cOLHkw"
   },
   "outputs": [
    {
     "name": "stderr",
     "output_type": "stream",
     "text": [
      "/anaconda3/lib/python3.6/site-packages/requests/__init__.py:91: RequestsDependencyWarning: urllib3 (1.23) or chardet (2.3.0) doesn't match a supported version!\n",
      "  RequestsDependencyWarning)\n"
     ]
    }
   ],
   "source": [
    "# Import statements\n",
    "import itertools\n",
    "import pandas as pd\n",
    "import tensorflow as tf"
   ]
  },
  {
   "cell_type": "code",
   "execution_count": 8,
   "metadata": {
    "colab": {
     "autoexec": {
      "startup": false,
      "wait_interval": 0.0
     }
    },
    "colab_type": "code",
    "id": "6pkqwm2_LssA"
   },
   "outputs": [],
   "source": [
    "# Set the logging level, API Doc - https://www.tensorflow.org/api_docs/python/tf/logging/set_verbosity)\n",
    "# This is a low-level setting so more information than you would like may appear\n",
    "tf.logging.set_verbosity(tf.logging.INFO)"
   ]
  },
  {
   "cell_type": "code",
   "execution_count": 9,
   "metadata": {
    "colab": {
     "autoexec": {
      "startup": false,
      "wait_interval": 0.0
     }
    },
    "colab_type": "code",
    "id": "JT7r0HrVLt56"
   },
   "outputs": [],
   "source": [
    "def get_input_fn(data_set, label, features, num_epochs=None, shuffle=True):\n",
    "    \"\"\"\n",
    "    Args:\n",
    "        dataset(DataFrame): Pandas DataFrame containing the dataset\n",
    "        num_epochs(int): number of epochs to train\n",
    "        shuffle(bool): shuffle the dataset randomly before training\n",
    "    \"\"\"\n",
    "    return tf.estimator.inputs.pandas_input_fn(\n",
    "            x=pd.DataFrame({k: data_set[k].values for k in features}),\n",
    "            y=pd.Series(data_set[label].values),\n",
    "            num_epochs=num_epochs,\n",
    "            shuffle=shuffle)"
   ]
  },
  {
   "cell_type": "code",
   "execution_count": null,
   "metadata": {},
   "outputs": [],
   "source": []
  },
  {
   "cell_type": "markdown",
   "metadata": {},
   "source": [
    "Take the relevant features and label we are trying to predict; market prices and presidential data. "
   ]
  },
  {
   "cell_type": "code",
   "execution_count": 10,
   "metadata": {
    "colab": {
     "autoexec": {
      "startup": false,
      "wait_interval": 0.0
     },
     "base_uri": "https://localhost:8080/",
     "height": 1006.0
    },
    "colab_type": "code",
    "executionInfo": {
     "elapsed": 15278.0,
     "status": "ok",
     "timestamp": 1.5236101711E12,
     "user": {
      "displayName": "Avi Thaker",
      "photoUrl": "https://lh3.googleusercontent.com/a/default-user=s128",
      "userId": "117542160256971382138"
     },
     "user_tz": 420.0
    },
    "id": "sUhbMb4yLvxB",
    "outputId": "9db68016-32ec-4ae6-fc64-2a1e03c00a14"
   },
   "outputs": [],
   "source": [
    "# Labeled Data\n",
    "COLUMNS = combined_df.columns[1:13] # Features and wanted predicted label\n",
    "FEATURES = combined_df.columns[2:13] # Features only without predicted label\n",
    "LABEL = \"party\" # Trying to predict the party that will win the election\n",
    "# Feature Columns\n",
    "feature_cols = [tf.feature_column.numeric_column(k) for k in FEATURES]"
   ]
  },
  {
   "cell_type": "markdown",
   "metadata": {},
   "source": [
    "Split up the testing and training set. Generally **(almost always!) you would have a test set, and multiple validation sets.** However, given the small sample size we will only train the model, and only predict on the most recent election. Additonally, be sure to randomize your data but consider the time component. In practice there is not always enough data and more data tends to give better performance. After a model has been validated to \"work\" it is retrained on the entire set to hopefully improve the model's performance.\n",
    "\n",
    "__Try for yourself:__ Split up the training_set, test_set, and prediction_set and see how the model performs given different dataset sizes. Predict on other elections, how does the model perform on other elections? "
   ]
  },
  {
   "cell_type": "code",
   "execution_count": 11,
   "metadata": {},
   "outputs": [],
   "source": [
    "# Test, Train, Prediction Sets\n",
    "training_set = combined_df[COLUMNS].iloc[:-1] # remove the most recent election results\n",
    "test_set = None # This is not good in practice but doing for now due to low amount of data\n",
    "prediction_set = combined_df[COLUMNS].iloc[-1:] # the most recent election results"
   ]
  },
  {
   "cell_type": "markdown",
   "metadata": {},
   "source": [
    "Here we actually build the model, using [DNNRegressor](https://www.tensorflow.org/api_docs/python/tf/estimator/DNNRegressor) in Tensorflow. We will build a fully connected network with 4 hidden layers with dimensions 44,22,11,11. (This would be considered a small deep network, look at Resnet 152 - a network 152 layers deep used for image classification tasks). \n",
    "\n",
    "The larger the model the better performance is expected (unless you are overfitting), but runtime will be significantly longer. For very large models, with giant datasets many GPU's are used in parallel to train upon (I had a project which used maybe 1000 at once). \n",
    "\n",
    "An important note is hyperparameter selection. These can be the network architecture, initial starting weights, activation functions, regularization, dropout rate, and many other factors. Right now we are using mainly defaults for simplicity. In practice you would train many models across a large variety of parameters, and select the best one (be careful of overfit). A large portion of a data scientests time is finding the best selection of hyperparameters. \n",
    "\n",
    "Now with model's becoming more common, AutoML/AutoDL is becoming a practice where Deep Networks are used to predict the best parameters to initially use.\n",
    "\n",
    "**__Note__: you will need to delete the model_dir after use or use another directory as this defaults to checkpointing from the last training epoch**, if you change the model params without deleting you may encounter an error, or keep training from the point you left off!\n",
    "\n",
    "Play with the evaluation part (commented out) on a test set. "
   ]
  },
  {
   "cell_type": "code",
   "execution_count": 12,
   "metadata": {},
   "outputs": [
    {
     "name": "stdout",
     "output_type": "stream",
     "text": [
      "INFO:tensorflow:Using default config.\n",
      "INFO:tensorflow:Using config: {'_model_dir': './pres', '_tf_random_seed': None, '_save_summary_steps': 100, '_save_checkpoints_steps': None, '_save_checkpoints_secs': 600, '_session_config': None, '_keep_checkpoint_max': 5, '_keep_checkpoint_every_n_hours': 10000, '_log_step_count_steps': 100, '_train_distribute': None, '_device_fn': None, '_service': None, '_cluster_spec': <tensorflow.python.training.server_lib.ClusterSpec object at 0x117c4b438>, '_task_type': 'worker', '_task_id': 0, '_global_id_in_cluster': 0, '_master': '', '_evaluation_master': '', '_is_chief': True, '_num_ps_replicas': 0, '_num_worker_replicas': 1}\n",
      "INFO:tensorflow:Calling model_fn.\n",
      "INFO:tensorflow:Done calling model_fn.\n",
      "INFO:tensorflow:Create CheckpointSaverHook.\n",
      "INFO:tensorflow:Graph was finalized.\n",
      "INFO:tensorflow:Running local_init_op.\n",
      "INFO:tensorflow:Done running local_init_op.\n",
      "INFO:tensorflow:Saving checkpoints for 0 into ./pres/model.ckpt.\n",
      "INFO:tensorflow:loss = 56.729214, step = 1\n",
      "INFO:tensorflow:global_step/sec: 101.697\n",
      "INFO:tensorflow:loss = 1.0955976, step = 101 (0.985 sec)\n",
      "INFO:tensorflow:global_step/sec: 123.74\n",
      "INFO:tensorflow:loss = 0.017081313, step = 201 (0.807 sec)\n",
      "INFO:tensorflow:global_step/sec: 141.299\n",
      "INFO:tensorflow:loss = 0.0076263454, step = 301 (0.708 sec)\n",
      "INFO:tensorflow:global_step/sec: 154.298\n",
      "INFO:tensorflow:loss = 0.004192249, step = 401 (0.648 sec)\n",
      "INFO:tensorflow:global_step/sec: 147.362\n",
      "INFO:tensorflow:loss = 0.0044583427, step = 501 (0.679 sec)\n",
      "INFO:tensorflow:global_step/sec: 151.142\n",
      "INFO:tensorflow:loss = 0.0032354514, step = 601 (0.661 sec)\n",
      "INFO:tensorflow:global_step/sec: 154.493\n",
      "INFO:tensorflow:loss = 0.0010206089, step = 701 (0.647 sec)\n",
      "INFO:tensorflow:global_step/sec: 150.457\n",
      "INFO:tensorflow:loss = 0.0016251366, step = 801 (0.665 sec)\n",
      "INFO:tensorflow:global_step/sec: 149.281\n",
      "INFO:tensorflow:loss = 0.0016364179, step = 901 (0.669 sec)\n",
      "INFO:tensorflow:global_step/sec: 118.79\n",
      "INFO:tensorflow:loss = 0.0014658216, step = 1001 (0.842 sec)\n",
      "INFO:tensorflow:global_step/sec: 139.631\n",
      "INFO:tensorflow:loss = 0.00084197754, step = 1101 (0.716 sec)\n",
      "INFO:tensorflow:global_step/sec: 130.854\n",
      "INFO:tensorflow:loss = 0.00086323224, step = 1201 (0.764 sec)\n",
      "INFO:tensorflow:global_step/sec: 144.238\n",
      "INFO:tensorflow:loss = 0.0006453843, step = 1301 (0.694 sec)\n",
      "INFO:tensorflow:global_step/sec: 119.763\n",
      "INFO:tensorflow:loss = 0.00047194154, step = 1401 (0.835 sec)\n",
      "INFO:tensorflow:global_step/sec: 121.944\n",
      "INFO:tensorflow:loss = 0.00040868076, step = 1501 (0.825 sec)\n",
      "INFO:tensorflow:global_step/sec: 120.916\n",
      "INFO:tensorflow:loss = 0.0003154733, step = 1601 (0.825 sec)\n",
      "INFO:tensorflow:global_step/sec: 127.281\n",
      "INFO:tensorflow:loss = 0.00040386093, step = 1701 (0.783 sec)\n",
      "INFO:tensorflow:global_step/sec: 143.37\n",
      "INFO:tensorflow:loss = 0.0002081259, step = 1801 (0.698 sec)\n",
      "INFO:tensorflow:global_step/sec: 116.021\n",
      "INFO:tensorflow:loss = 0.00021248755, step = 1901 (0.861 sec)\n",
      "INFO:tensorflow:Saving checkpoints for 2000 into ./pres/model.ckpt.\n",
      "INFO:tensorflow:Loss for final step: 0.00018125022.\n"
     ]
    },
    {
     "data": {
      "text/plain": [
       "<tensorflow.python.estimator.canned.dnn.DNNRegressor at 0x117c4b2e8>"
      ]
     },
     "execution_count": 12,
     "metadata": {},
     "output_type": "execute_result"
    }
   ],
   "source": [
    "# Build a Fully Connected DNN with 11, 11, units respectively\n",
    "regressor = tf.estimator.DNNRegressor(feature_columns=feature_cols, hidden_units=[44,22,11,11], model_dir=\"./pres\")\n",
    "\n",
    "# Train the network\n",
    "regressor.train(input_fn=get_input_fn(training_set, LABEL, FEATURES), steps=2000)\n",
    "\n",
    "# Evaluate the loss over one epoch of the test_set\n",
    "# ev = regressor.evaluate(input_fn=get_input_fn(test_set,num_epochs=1, shuffle=False))"
   ]
  },
  {
   "cell_type": "markdown",
   "metadata": {},
   "source": [
    "#### Evaluation\n",
    "Look at that loss! That is an incredibly low loss given the size of the network with respect to the size of the data. We might have overfit our data. \n",
    "\n",
    "Now predict the output to see how we did!!! Note due to randomness of parameters upon initialization it is expected to get slighlty different results than others. "
   ]
  },
  {
   "cell_type": "code",
   "execution_count": 13,
   "metadata": {},
   "outputs": [
    {
     "name": "stdout",
     "output_type": "stream",
     "text": [
      "INFO:tensorflow:Calling model_fn.\n",
      "INFO:tensorflow:Done calling model_fn.\n",
      "INFO:tensorflow:Graph was finalized.\n",
      "INFO:tensorflow:Restoring parameters from ./pres/model.ckpt-2000\n",
      "INFO:tensorflow:Running local_init_op.\n",
      "INFO:tensorflow:Done running local_init_op.\n",
      "Predictions: [array([0.91179335], dtype=float32)]\n",
      "Predicting a TRUMP (Republican) victory\n"
     ]
    }
   ],
   "source": [
    "#Print out predictions over a slice of the prediction set\n",
    "y = regressor.predict(input_fn=get_input_fn(prediction_set, LABEL, FEATURES, num_epochs=1, shuffle=False))\n",
    "\n",
    "# .predict() returns an iterator of dicts; convert to a list and print the predictions\n",
    "predictions = list(p[\"predictions\"] for p in itertools.islice(y, len(prediction_set)))\n",
    "print(\"Predictions: {}\".format(str(predictions)))\n",
    "if predictions[0] > 0.5:\n",
    "    print(\"Predicting a TRUMP (Republican) victory\")\n",
    "else:\n",
    "    print(\"Predicting a CLINTON (Democratic) victory\")"
   ]
  },
  {
   "cell_type": "markdown",
   "metadata": {},
   "source": [
    "If you did not change parameters you should get roughly 0.9, meaning we expect the Republican party to win the election, and therefore a Trump victory. **We correctly predicted the election!** However, with an output of 0.9 we are pretty confident, thus may be in a situation where we are overpredicting (depending on the parameters and given that this is a regression the coefficients in the network can lead to predicting over a value of 1). Do not take this value as a likelyhood as this process can be thought of as a regression. You can use a softmax to get predicted probabilities, but that is out of the scope of this workbook. "
   ]
  },
  {
   "cell_type": "markdown",
   "metadata": {},
   "source": [
    "### 5. Predicting the Market return after the Trump Election\n",
    "We will follow a similar process to the above. Furthermore, we will use similar features, but take out the party as that would inject some forward looking bias. \n",
    "\n",
    "Here we will predict a direction instead of a size (1 - market up from election, 0 - market down from election). In section 2 we labeled the direction of the market return. You can play with that data column and return instead the market value, see how it changes the performance! Furthermore, play with the other values and add it to the labels to predict upon! See if you can classify the direction of 1 year out!"
   ]
  },
  {
   "cell_type": "code",
   "execution_count": 14,
   "metadata": {},
   "outputs": [
    {
     "name": "stdout",
     "output_type": "stream",
     "text": [
      "INFO:tensorflow:Using default config.\n",
      "INFO:tensorflow:Using config: {'_model_dir': './market', '_tf_random_seed': None, '_save_summary_steps': 100, '_save_checkpoints_steps': None, '_save_checkpoints_secs': 600, '_session_config': None, '_keep_checkpoint_max': 5, '_keep_checkpoint_every_n_hours': 10000, '_log_step_count_steps': 100, '_train_distribute': None, '_device_fn': None, '_service': None, '_cluster_spec': <tensorflow.python.training.server_lib.ClusterSpec object at 0x10e8a5048>, '_task_type': 'worker', '_task_id': 0, '_global_id_in_cluster': 0, '_master': '', '_evaluation_master': '', '_is_chief': True, '_num_ps_replicas': 0, '_num_worker_replicas': 1}\n",
      "INFO:tensorflow:Calling model_fn.\n",
      "INFO:tensorflow:Done calling model_fn.\n",
      "INFO:tensorflow:Create CheckpointSaverHook.\n",
      "INFO:tensorflow:Graph was finalized.\n",
      "INFO:tensorflow:Running local_init_op.\n",
      "INFO:tensorflow:Done running local_init_op.\n",
      "INFO:tensorflow:Saving checkpoints for 0 into ./market/model.ckpt.\n",
      "INFO:tensorflow:loss = 50.62291, step = 1\n",
      "INFO:tensorflow:global_step/sec: 133.567\n",
      "INFO:tensorflow:loss = 16.42844, step = 101 (0.750 sec)\n",
      "INFO:tensorflow:global_step/sec: 125.599\n",
      "INFO:tensorflow:loss = 0.3479573, step = 201 (0.798 sec)\n",
      "INFO:tensorflow:global_step/sec: 127.356\n",
      "INFO:tensorflow:loss = 0.010512618, step = 301 (0.785 sec)\n",
      "INFO:tensorflow:global_step/sec: 130.612\n",
      "INFO:tensorflow:loss = 0.0005208164, step = 401 (0.764 sec)\n",
      "INFO:tensorflow:global_step/sec: 122.932\n",
      "INFO:tensorflow:loss = 0.00023408253, step = 501 (0.814 sec)\n",
      "INFO:tensorflow:global_step/sec: 124.55\n",
      "INFO:tensorflow:loss = 0.00012387225, step = 601 (0.802 sec)\n",
      "INFO:tensorflow:global_step/sec: 134.44\n",
      "INFO:tensorflow:loss = 0.00018752945, step = 701 (0.744 sec)\n",
      "INFO:tensorflow:global_step/sec: 148.77\n",
      "INFO:tensorflow:loss = 7.113819e-05, step = 801 (0.672 sec)\n",
      "INFO:tensorflow:global_step/sec: 149.505\n",
      "INFO:tensorflow:loss = 3.6669357e-05, step = 901 (0.669 sec)\n",
      "INFO:tensorflow:global_step/sec: 154.129\n",
      "INFO:tensorflow:loss = 7.591536e-05, step = 1001 (0.649 sec)\n",
      "INFO:tensorflow:global_step/sec: 150.048\n",
      "INFO:tensorflow:loss = 7.480485e-05, step = 1101 (0.666 sec)\n",
      "INFO:tensorflow:global_step/sec: 149.105\n",
      "INFO:tensorflow:loss = 4.659948e-05, step = 1201 (0.670 sec)\n",
      "INFO:tensorflow:global_step/sec: 146.224\n",
      "INFO:tensorflow:loss = 3.4099023e-05, step = 1301 (0.684 sec)\n",
      "INFO:tensorflow:global_step/sec: 153.974\n",
      "INFO:tensorflow:loss = 4.029813e-05, step = 1401 (0.650 sec)\n",
      "INFO:tensorflow:global_step/sec: 123.946\n",
      "INFO:tensorflow:loss = 3.220992e-05, step = 1501 (0.807 sec)\n",
      "INFO:tensorflow:global_step/sec: 142.2\n",
      "INFO:tensorflow:loss = 3.2391254e-05, step = 1601 (0.703 sec)\n",
      "INFO:tensorflow:global_step/sec: 156.637\n",
      "INFO:tensorflow:loss = 3.5901863e-05, step = 1701 (0.639 sec)\n",
      "INFO:tensorflow:global_step/sec: 145.938\n",
      "INFO:tensorflow:loss = 2.4318077e-05, step = 1801 (0.687 sec)\n",
      "INFO:tensorflow:global_step/sec: 150.008\n",
      "INFO:tensorflow:loss = 2.3475275e-05, step = 1901 (0.665 sec)\n",
      "INFO:tensorflow:Saving checkpoints for 2000 into ./market/model.ckpt.\n",
      "INFO:tensorflow:Loss for final step: 1.8467923e-05.\n",
      "INFO:tensorflow:Calling model_fn.\n",
      "INFO:tensorflow:Done calling model_fn.\n",
      "INFO:tensorflow:Graph was finalized.\n",
      "INFO:tensorflow:Restoring parameters from ./market/model.ckpt-2000\n",
      "INFO:tensorflow:Running local_init_op.\n",
      "INFO:tensorflow:Done running local_init_op.\n",
      "Predictions: [array([0.90816367], dtype=float32)]\n",
      "Actual: 1.0\n",
      "Correctly predicted the market direction!\n"
     ]
    }
   ],
   "source": [
    "# Now lets build a DNN to predict the expected market response, this follows a similar process as above\n",
    "M_COLUMNS = combined_df.columns[2:14]\n",
    "M_FEATURES = combined_df.columns[2:13]\n",
    "M_LABEL = \"day_after_1\"\n",
    "\n",
    "# Test, Train, Prediction Sets\n",
    "m_training_set = combined_df[M_COLUMNS].iloc[:-1]\n",
    "m_test_set = None # This is not good in practice but doing for now due to low amount of data\n",
    "m_prediction_set = combined_df[M_COLUMNS].iloc[-1:] # What is the expected return\n",
    "\n",
    "# Feature Columns\n",
    "m_feature_cols = [tf.feature_column.numeric_column(k) for k in M_FEATURES]\n",
    "\n",
    "# Build a Fully Connected DNN with 11, 11, units respectively\n",
    "m_regressor = tf.estimator.DNNRegressor(feature_columns=m_feature_cols, hidden_units=[44,22,11,11], model_dir=\"./market\")\n",
    "\n",
    "# Train the network\n",
    "m_regressor.train(input_fn=get_input_fn(m_training_set, M_LABEL, M_FEATURES), steps=2000)\n",
    "\n",
    "# Evaluate the loss over one epoch of the test_set\n",
    "#ev = regressor.evaluate(input_fn=get_input_fn(test_set,num_epochs=1, shuffle=False))\n",
    "\n",
    "#Print out predictions over a slice of the prediction set\n",
    "m_y = m_regressor.predict(input_fn=get_input_fn(m_prediction_set, M_LABEL, M_FEATURES, num_epochs=1, shuffle=False))\n",
    "\n",
    "# .predict() returns an iterator of dicts; convert to a list and print the predictions\n",
    "m_predictions = list(p[\"predictions\"] for p in itertools.islice(m_y, len(m_prediction_set)))\n",
    "print(\"Predictions: {}\".format(str(m_predictions)))\n",
    "print(\"Actual: \" + str(m_prediction_set.iloc[0].day_after_1))\n",
    "\n",
    "if round(m_predictions[0][0]) ==  m_prediction_set.iloc[0].day_after_1:\n",
    "    print(\"Correctly predicted the market direction!\")"
   ]
  },
  {
   "cell_type": "markdown",
   "metadata": {},
   "source": [
    "Again it looks like we are in a situation were we may have overpredicted! But we did indeed predict the direction of the market return after Trump's victory! \n",
    "\n",
    "Congrats you have trained your first (or maybe not) neural network!"
   ]
  },
  {
   "cell_type": "markdown",
   "metadata": {},
   "source": [
    "### Closing Remarks\n",
    "This serves as only an introduction to how to use deep learning to predict the market. I would not use the model as is to predict the next election. There is much to be said about data engineering and bias that we can do to improve this model. \n",
    "\n",
    "What are some problems with the process that we have done?\n",
    "\n",
    "What can be done to improve the model?"
   ]
  },
  {
   "cell_type": "code",
   "execution_count": 15,
   "metadata": {},
   "outputs": [],
   "source": [
    "import shutil\n",
    "shutil.rmtree(\"./market\") # Need to update to remove when folders are not empty\n",
    "shutil.rmtree(\"./pres\") # Need to update to remove when folders are not empty"
   ]
  }
 ],
 "metadata": {
  "accelerator": "GPU",
  "colab": {
   "collapsed_sections": [],
   "default_view": {},
   "name": "trump_election.ipynb",
   "provenance": [],
   "version": "0.3.2",
   "views": {}
  },
  "kernelspec": {
   "display_name": "Python 3",
   "language": "python",
   "name": "python3"
  },
  "language_info": {
   "codemirror_mode": {
    "name": "ipython",
    "version": 3
   },
   "file_extension": ".py",
   "mimetype": "text/x-python",
   "name": "python",
   "nbconvert_exporter": "python",
   "pygments_lexer": "ipython3",
   "version": "3.6.6"
  }
 },
 "nbformat": 4,
 "nbformat_minor": 1
}
